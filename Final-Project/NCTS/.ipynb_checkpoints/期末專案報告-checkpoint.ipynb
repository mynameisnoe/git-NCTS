{
 "cells": [
  {
   "cell_type": "markdown",
   "metadata": {},
   "source": [
    "# 專案題目：車場空車位辨識 及 車牌辨識"
   ]
  },
  {
   "cell_type": "markdown",
   "metadata": {},
   "source": [
    "#### 組員：簡子偉"
   ]
  },
  {
   "cell_type": "markdown",
   "metadata": {},
   "source": [
    "### Part1: 車場空車位辨識\n",
    "    \n",
    "    專案說明 及 成果展示\n",
    "    \n",
    "https://nbviewer.jupyter.org/github/mynameisnoe/git-ncts/blob/master/Final-Project/NCTS/%E5%B0%88%E6%A1%88%E5%A0%B1%E5%91%8A_Part1.ipynb"
   ]
  },
  {
   "cell_type": "markdown",
   "metadata": {},
   "source": [
    "### Part2: 車牌辨識\n",
    "    \n",
    "    專案說明 及 成果展示\n",
    "\n",
    "https://nbviewer.jupyter.org/github/mynameisnoe/git-ncts/blob/master/Final-Project/NCTS/%E5%B0%88%E6%A1%88%E5%A0%B1%E5%91%8A_Part2.ipynb"
   ]
  },
  {
   "cell_type": "code",
   "execution_count": null,
   "metadata": {},
   "outputs": [],
   "source": []
  }
 ],
 "metadata": {
  "kernelspec": {
   "display_name": "Python 3",
   "language": "python",
   "name": "python3"
  },
  "language_info": {
   "codemirror_mode": {
    "name": "ipython",
    "version": 3
   },
   "file_extension": ".py",
   "mimetype": "text/x-python",
   "name": "python",
   "nbconvert_exporter": "python",
   "pygments_lexer": "ipython3",
   "version": "3.6.8"
  }
 },
 "nbformat": 4,
 "nbformat_minor": 2
}
