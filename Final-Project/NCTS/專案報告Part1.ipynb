{
 "cells": [
  {
   "cell_type": "markdown",
   "metadata": {},
   "source": [
    "# 題目 : 停車場空車位辨識"
   ]
  },
  {
   "cell_type": "markdown",
   "metadata": {},
   "source": [
    "I.做此專案的目的\n",
    "\n",
    "II.專案概述\n",
    "\n",
    "III.專案流程（Input  /  Model  /  Output）\n",
    "\n",
    "IV.工作分配 及 硬體架構\n",
    "\n",
    "V.資料收集\n",
    "\n",
    "VI.資料預處理\n",
    "\n",
    "VII.模型實現\n",
    "\n",
    "VIII.結論及延伸運用"
   ]
  },
  {
   "cell_type": "markdown",
   "metadata": {},
   "source": [
    "### I.做此專案的目的"
   ]
  },
  {
   "cell_type": "markdown",
   "metadata": {},
   "source": [
    "目的為完成這兩樣技術：\n",
    "\n",
    "1.完成 停車場的空車位 Object Detection (如下圖)\n",
    "\n",
    "2.完成 檢測車牌的技術 Car Plate Recognition"
   ]
  },
  {
   "cell_type": "markdown",
   "metadata": {},
   "source": [
    "<img src=\"./1.jpg\" width=\"60%\" />"
   ]
  },
  {
   "cell_type": "markdown",
   "metadata": {},
   "source": [
    "#### 證明真的是台大停車場（來自google地圖）\n",
    "#### 此資料集的停車場為\n",
    "#### 國立台灣大學收費停車場 (106台北市大安區羅斯福路四段1號) 及附近的台大校園內的停車格"
   ]
  },
  {
   "cell_type": "markdown",
   "metadata": {},
   "source": [
    "<img src=\"./6.png\" width=\"60%\" />"
   ]
  },
  {
   "cell_type": "markdown",
   "metadata": {},
   "source": [
    "未來想完成的目標為： \n",
    "\n",
    "檢測每一次進到停車場的停車車輛 是否為停車場會員，\n",
    "\n",
    "若為會員則為會員 在手機上提供空車位的導航。\n",
    "\n",
    "\n",
    "### 而此專案為專注在第一部分：停車場空車位辨識"
   ]
  },
  {
   "cell_type": "markdown",
   "metadata": {},
   "source": [
    "### II.專案概述"
   ]
  },
  {
   "cell_type": "markdown",
   "metadata": {},
   "source": [
    "此專案為 停車場空車位的物件辨識，\n",
    "\n",
    "首先用 DJI PHANTOM 4ADVANCED 做資料收集，\n",
    "\n",
    "再運用 labelImg 進行 手工label後 得到.xml檔，再將 .xml 轉為 .csv檔，\n",
    "\n",
    "再載入 faster rcnn inception v2 來進行訓練。"
   ]
  },
  {
   "cell_type": "markdown",
   "metadata": {},
   "source": [
    "### III.專案流程（Input  /  Model  /  Output）"
   ]
  },
  {
   "cell_type": "markdown",
   "metadata": {},
   "source": [
    "0.與自己討論各種實做方法。\n",
    "\n",
    "1.using DJI to collect car plate images\n",
    "\n",
    "and using labelImg software to label empty car plate space and export the .xml label files \n",
    "\n",
    "2.clone tensorflow object detection repository model\n",
    "\n",
    "3.download faster_rcnn_inception_v2_coco\n",
    "\n",
    "4.setup tensorflow environment\n",
    "\n",
    "5.generate the data to .csv file\n",
    "\n",
    "6.Training the model \n",
    "\n",
    "7.Testing and exporting the box graph"
   ]
  },
  {
   "cell_type": "markdown",
   "metadata": {},
   "source": [
    "### IV.工作分配 及 硬體架構"
   ]
  },
  {
   "cell_type": "markdown",
   "metadata": {},
   "source": [
    "工作分配：\n",
    "    \n",
    "    資料收集：簡子偉\n",
    "    \n",
    "    資料標籤：簡子偉\n",
    "    \n",
    "    建立 物件辨識模型：簡子偉\n",
    "    \n",
    "    結果展示：簡子偉\n",
    "    \n",
    "    寫專案報告：簡子偉\n",
    "    \n",
    "硬體架構：\n",
    "    \n",
    "    GTX1080\n",
    "    \n",
    "    i7 8700"
   ]
  },
  {
   "cell_type": "markdown",
   "metadata": {},
   "source": [
    "### V.資料收集"
   ]
  },
  {
   "cell_type": "markdown",
   "metadata": {},
   "source": [
    "資料是用 DJI PHANTOM 4ADVANCED 空排機收集的，\n",
    "\n",
    "收集將近五百張照片，其中一張照片大部分是涵蓋八格停車位，\n",
    "\n",
    "為了增加之後檢測的強健性，\n",
    "\n",
    "拍攝的照片有 早上、中午、日落、晚上，\n",
    "\n",
    "且停車格 有 平行停車格、斜線停車格、地面為草地的停車格，\n",
    "\n",
    "並且考慮台大停車格部分車位有樹遮掩，加入空拍俯視被樹遮掩的停車格。"
   ]
  },
  {
   "cell_type": "markdown",
   "metadata": {},
   "source": [
    "<img src=\"./sunset.png\" width=\"60%\" />"
   ]
  },
  {
   "cell_type": "markdown",
   "metadata": {},
   "source": [
    "上圖為白天的停車格"
   ]
  },
  {
   "cell_type": "markdown",
   "metadata": {},
   "source": [
    "<img src=\"./sunset_plant.png\" width=\"60%\" />"
   ]
  },
  {
   "cell_type": "markdown",
   "metadata": {},
   "source": [
    "上圖為白天被樹遮住的停車格"
   ]
  },
  {
   "cell_type": "markdown",
   "metadata": {},
   "source": [
    "<img src=\"./night.png\" width=\"60%\" />"
   ]
  },
  {
   "cell_type": "markdown",
   "metadata": {},
   "source": [
    "上圖為晚上的停車格"
   ]
  },
  {
   "cell_type": "markdown",
   "metadata": {},
   "source": [
    "<img src=\"./night_plant.png\" width=\"60%\" />"
   ]
  },
  {
   "cell_type": "markdown",
   "metadata": {},
   "source": [
    "上圖為晚上被樹遮住的停車格"
   ]
  },
  {
   "cell_type": "markdown",
   "metadata": {},
   "source": [
    "在此分享自己辛苦收集的 Dataset，歡迎大家使用！\n",
    "\n",
    "停車格照片\n",
    "\n",
    "https://drive.google.com/file/d/1JX0FFgs8p5xqyPMHwB1RzZgN97uK69Ob/view?usp=sharing\n",
    "\n",
    "停車格影片\n",
    "\n",
    "https://drive.google.com/file/d/1OLDAwa2Xfe54Ix3BF0IMA1NTyo99njjM/view?usp=sharing"
   ]
  },
  {
   "cell_type": "markdown",
   "metadata": {},
   "source": [
    "### VI.資料預處理"
   ]
  },
  {
   "cell_type": "markdown",
   "metadata": {},
   "source": [
    "用 labelImg 進行 手工label後 得到.xml檔，\n",
    "\n",
    "再將 .xml 轉為 .csv檔 來導入 model。"
   ]
  },
  {
   "cell_type": "markdown",
   "metadata": {},
   "source": [
    "<img src=\"./8.png\" width=\"60%\" />"
   ]
  },
  {
   "cell_type": "markdown",
   "metadata": {},
   "source": [
    "### VII.成果展示實現"
   ]
  },
  {
   "cell_type": "markdown",
   "metadata": {},
   "source": [
    "<img src=\"./3.jpg\" width=\"60%\" />"
   ]
  },
  {
   "cell_type": "markdown",
   "metadata": {},
   "source": [
    "<img src=\"./4.jpg\" width=\"60%\" />"
   ]
  },
  {
   "cell_type": "markdown",
   "metadata": {},
   "source": [
    "訓練影片： https://youtu.be/f8JYTNH0aOQ"
   ]
  },
  {
   "cell_type": "markdown",
   "metadata": {},
   "source": [
    "### VIII.結論及延伸運用"
   ]
  },
  {
   "cell_type": "markdown",
   "metadata": {},
   "source": [
    "結論：\n",
    "    \n",
    "    成果表現算蠻準確，\n",
    "    \n",
    "    但只能跑出部分成果 且 有些車格重疊會造成辨識成兩個車位（上方影片），\n",
    "    \n",
    "    這部分還在持續訓練及生成訓練結果中，\n",
    "    \n",
    "    所以檔案還沒轉成 .ipynb格式，\n",
    "    \n",
    "    目前這個專案在寫論文中，之後會產出IEEE形式的paper\n",
    "    \n",
    "    但 專案報告Part2 有完整的code及流程敘述。\n",
    "\n",
    "延伸應用：\n",
    "\n",
    "    車牌辨識可用於停車場/高速公路的檢測 來節省人力資源，\n",
    "\n",
    "    也可以在一般道路及高速公路上，結合攝影機來進行資料收集，\n",
    "    \n",
    "    而收集到的車牌，一方面可以用於檢測車輛違規並自動寄出罰單，\n",
    "\n",
    "    一方面可以在政府處理犯罪時 增加物證的收集。"
   ]
  },
  {
   "cell_type": "code",
   "execution_count": null,
   "metadata": {},
   "outputs": [],
   "source": []
  }
 ],
 "metadata": {
  "kernelspec": {
   "display_name": "Python 3",
   "language": "python",
   "name": "python3"
  },
  "language_info": {
   "codemirror_mode": {
    "name": "ipython",
    "version": 3
   },
   "file_extension": ".py",
   "mimetype": "text/x-python",
   "name": "python",
   "nbconvert_exporter": "python",
   "pygments_lexer": "ipython3",
   "version": "3.6.8"
  }
 },
 "nbformat": 4,
 "nbformat_minor": 2
}
