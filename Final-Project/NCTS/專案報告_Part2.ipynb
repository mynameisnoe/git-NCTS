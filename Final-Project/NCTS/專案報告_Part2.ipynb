{
 "cells": [
  {
   "cell_type": "markdown",
   "metadata": {},
   "source": [
    "# 題目 : 車牌辨識"
   ]
  },
  {
   "cell_type": "markdown",
   "metadata": {},
   "source": [
    "I.做此專案的目的\n",
    "\n",
    "II.專案概述\n",
    "\n",
    "III.專案流程（Input  /  Model  /  Output）\n",
    "\n",
    "IV.工作分配 及 硬體架構\n",
    "\n",
    "V.資料收集\n",
    "\n",
    "VI.資料預處理\n",
    "\n",
    "VII.模型實現\n",
    "\n",
    "VIII.結論及延伸運用"
   ]
  },
  {
   "cell_type": "markdown",
   "metadata": {},
   "source": [
    "### I.做此專案的目的"
   ]
  },
  {
   "cell_type": "markdown",
   "metadata": {},
   "source": [
    "目的為完成這兩樣技術：\n",
    "\n",
    "1.完成 停車場的空車位 Object Detection (如下圖)\n",
    "\n",
    "2.完成 檢測車牌的技術 Car Plate Recognition\n"
   ]
  },
  {
   "cell_type": "markdown",
   "metadata": {},
   "source": [
    " <img src=\"1.jpg\" alt=\"drawing\" style=\"width: 1024px;\"/>"
   ]
  },
  {
   "cell_type": "markdown",
   "metadata": {},
   "source": [
    "#### 證明真的是台大停車場（來自google地圖）\n",
    "#### 此資料集的停車場為\n",
    "#### 國立台灣大學收費停車場 (106台北市大安區羅斯福路四段1號) 及附近的台大校園內的停車格"
   ]
  },
  {
   "cell_type": "markdown",
   "metadata": {},
   "source": [
    " <img src=\"6.png\" alt=\"drawing\" style=\"width: 1024px;\"/>"
   ]
  },
  {
   "cell_type": "markdown",
   "metadata": {},
   "source": [
    "未來想完成的目標為： \n",
    "\n",
    "檢測每一次進到停車場的停車車輛 是否為停車場會員，\n",
    "\n",
    "若為會員則為會員 在手機上提供空車位的導航。\n",
    "\n",
    "\n",
    "### 而此專案為專注在第二部分：車牌辨識"
   ]
  },
  {
   "cell_type": "markdown",
   "metadata": {},
   "source": [
    "### II.專案概述"
   ]
  },
  {
   "cell_type": "markdown",
   "metadata": {},
   "source": [
    "此專案為利用 Mask RCNN 做車牌的定位，\n",
    "\n",
    "然後運用 opencv 做分割車牌中的 中文字 及 數字 及 英文字母，\n",
    "\n",
    "再運用 cnn 做單一的字體 (中文字/英文字母/數字) 的識別"
   ]
  },
  {
   "cell_type": "markdown",
   "metadata": {},
   "source": [
    "### III.專案流程（Input  /  Model  /  Output）"
   ]
  },
  {
   "cell_type": "markdown",
   "metadata": {},
   "source": [
    "0.與自己討論各種實做方法。\n",
    "\n",
    "1.由CCPD數據集載入數據，\n",
    "\n",
    "並且使用VGG Image Annotator（VIA）來 導入圖片 / label / 導出json\n",
    "\n",
    "2.prepare 字符識別的 dataset，其中包含分隔好的單個車牌漢字 / 字母 / 數字。\n",
    "\n",
    "3.訓練 MASK RCNN 模型 來定位車牌位置。\n",
    "\n",
    "4.訓練 CNN 模型 來進行單一字體識別。\n",
    "\n",
    "5.訓練後 將兩模型結合 跑模型。"
   ]
  },
  {
   "cell_type": "markdown",
   "metadata": {},
   "source": [
    "### IV.工作分配 及 硬體架構"
   ]
  },
  {
   "cell_type": "markdown",
   "metadata": {},
   "source": [
    "工作分配：\n",
    "    \n",
    "    資料收集：簡子偉\n",
    "    \n",
    "    資料前處理：簡子偉\n",
    "    \n",
    "    建立定位車牌模型：簡子偉\n",
    "    \n",
    "    建立分割字體模塊：簡子偉\n",
    "    \n",
    "    建立辨識字體模型：簡子偉\n",
    "    \n",
    "    結果展示：簡子偉\n",
    "    \n",
    "    寫專案報告：簡子偉\n",
    "    \n",
    "硬體架構：\n",
    "    \n",
    "    GPU:GTX1080\n",
    "    \n",
    "    CPU:i7 8700"
   ]
  },
  {
   "cell_type": "markdown",
   "metadata": {},
   "source": [
    "### V.資料收集"
   ]
  },
  {
   "cell_type": "markdown",
   "metadata": {},
   "source": [
    "這次專案的車牌資料來源是CCPD(Chinese City Parking Dataset)\n",
    "\n",
    "https://github.com/detectRecog/CCPD\n",
    "\n",
    "會使用此資料集是因為車牌上有中文字型，\n",
    "\n",
    "當有中文字時較不容易用 Image Processing 的方式辨識，\n",
    "\n",
    "因此想用建立深度學習模型來識別車牌。"
   ]
  },
  {
   "cell_type": "markdown",
   "metadata": {},
   "source": [
    "### VI.資料預處理"
   ]
  },
  {
   "cell_type": "markdown",
   "metadata": {},
   "source": [
    "使用VGG Image Annotator（VIA）來 導入圖片 / label / 導出json"
   ]
  },
  {
   "cell_type": "markdown",
   "metadata": {},
   "source": [
    "### VII.模型實現"
   ]
  },
  {
   "cell_type": "markdown",
   "metadata": {},
   "source": [
    "每一流程的代碼 及 成果展現：\n",
    "\n",
    "https://nbviewer.jupyter.org/github/mynameisnoe/git-ncts/blob/master/Final-Project/Final_Report_noe.ipynb\n"
   ]
  },
  {
   "cell_type": "markdown",
   "metadata": {},
   "source": [
    "### VIII.結論及延伸運用"
   ]
  },
  {
   "cell_type": "markdown",
   "metadata": {},
   "source": [
    "結論：\n",
    "    \n",
    "    成果表現的不是很好，因分割車牌的效果不好，目前還在持續改善，\n",
    "    \n",
    "    但擷取車牌的效果準確率還蠻好的。\n",
    "\n",
    "延伸應用：\n",
    "\n",
    "    車牌辨識可用於停車場/高速公路的檢測 來節省人力資源，\n",
    "\n",
    "    也可以在一般道路及高速公路上，結合攝影機來進行資料收集，\n",
    "    \n",
    "    而收集到的車牌，一方面可以用於檢測車輛違規並自動寄出罰單，\n",
    "\n",
    "    一方面可以在政府處理犯罪時 增加物證的收集。"
   ]
  },
  {
   "cell_type": "code",
   "execution_count": null,
   "metadata": {},
   "outputs": [],
   "source": []
  }
 ],
 "metadata": {
  "kernelspec": {
   "display_name": "Python 3",
   "language": "python",
   "name": "python3"
  },
  "language_info": {
   "codemirror_mode": {
    "name": "ipython",
    "version": 3
   },
   "file_extension": ".py",
   "mimetype": "text/x-python",
   "name": "python",
   "nbconvert_exporter": "python",
   "pygments_lexer": "ipython3",
   "version": "3.6.8"
  }
 },
 "nbformat": 4,
 "nbformat_minor": 2
}
