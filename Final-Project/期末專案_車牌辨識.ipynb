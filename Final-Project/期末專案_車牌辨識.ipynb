{
 "cells": [
  {
   "cell_type": "markdown",
   "metadata": {},
   "source": [
    "# 專案主題：車牌辨識"
   ]
  },
  {
   "cell_type": "markdown",
   "metadata": {},
   "source": [
    "# 組員：簡子偉"
   ]
  },
  {
   "cell_type": "markdown",
   "metadata": {},
   "source": [
    "# 專案介紹："
   ]
  },
  {
   "cell_type": "markdown",
   "metadata": {},
   "source": [
    "這次專案的車牌資料來源是CCPD(Chinese City Parking Dataset)\n",
    "\n",
    "https://github.com/detectRecog/CCPD\n",
    "    \n",
    "會使用此資料集是因為車牌上有中文字型，\n",
    "\n",
    "當有中文字時較不容易用 Image Processing 的方式辨識，\n",
    "\n",
    "因此想用建立深度學習模型來識別車牌。"
   ]
  },
  {
   "cell_type": "markdown",
   "metadata": {},
   "source": [
    "# 目的："
   ]
  },
  {
   "cell_type": "markdown",
   "metadata": {},
   "source": [
    "車牌辨識可用於停車場/高速公路的檢測，\n",
    "\n",
    "這技術來節省人力資源。\n",
    "\n",
    "也可以在一般道路及高速公路上，\n",
    "\n",
    "結合攝影機來進行資料收集，\n",
    "\n",
    "一方面可以用於檢測車輛違規 來降低近年來機車違規的案件增加問題，\n",
    "\n",
    "一方面可以在政府處理犯罪時增加物證的收集。"
   ]
  },
  {
   "cell_type": "markdown",
   "metadata": {},
   "source": [
    "# 專案實做流程："
   ]
  },
  {
   "cell_type": "markdown",
   "metadata": {},
   "source": [
    "0.與自己討論各種實做方法。\n",
    "\n",
    "1.由CCPD數據集載入數據，\n",
    "\n",
    "並且使用VGG Image Annotator（VIA）來 導入圖片 / label / 導出json\n",
    "\n",
    "2.prepare 字符識別的 dataset，其中包含分隔好的單個車牌漢字 / 字母 / 數字。\n",
    "\n",
    "3.訓練 MASK RCNN 模型 來定位車牌位置。\n",
    "\n",
    "4.訓練 CNN 模型 來進行單一字體識別。\n",
    "\n",
    "5.訓練後 將兩模型結合 跑模型。"
   ]
  },
  {
   "cell_type": "markdown",
   "metadata": {},
   "source": [
    "# 專案排程："
   ]
  },
  {
   "cell_type": "markdown",
   "metadata": {},
   "source": [
    "5/12 ~ 思考實做方法\n",
    "\n",
    "5/19 ~ 載入數據 標注數據並導出\n",
    "\n",
    "5/26 ~ 訓練 MASK RCNN 模型 及 CNN 模型\n",
    "\n",
    "6/2 ~ modify 模型（紀錄遇到的問題及如何解決方式） 並撰寫期末專案的報告\n",
    "\n",
    "6/5 ~ 繳交專案"
   ]
  },
  {
   "cell_type": "markdown",
   "metadata": {},
   "source": [
    "# 目前進度:"
   ]
  },
  {
   "cell_type": "markdown",
   "metadata": {},
   "source": [
    "    - [✔] 與自己討論各種實做方法\n",
    "    - [✔] 載入數據 標注數據並導出\n",
    "    - [✔] prepare 字符識別的 dataset\n",
    "    - [✕] 正在訓練模型，完成大概50％\n",
    "    - [✕] 改善模型，撰寫專案報告"
   ]
  },
  {
   "cell_type": "code",
   "execution_count": null,
   "metadata": {},
   "outputs": [],
   "source": []
  }
 ],
 "metadata": {
  "kernelspec": {
   "display_name": "Python 3",
   "language": "python",
   "name": "python3"
  },
  "language_info": {
   "codemirror_mode": {
    "name": "ipython",
    "version": 3
   },
   "file_extension": ".py",
   "mimetype": "text/x-python",
   "name": "python",
   "nbconvert_exporter": "python",
   "pygments_lexer": "ipython3",
   "version": "3.6.8"
  }
 },
 "nbformat": 4,
 "nbformat_minor": 2
}
