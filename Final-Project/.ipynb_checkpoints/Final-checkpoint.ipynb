{
 "cells": [
  {
   "cell_type": "markdown",
   "metadata": {},
   "source": [
    "# [NCTS] 簡子偉\n",
    "\n",
    "### 1.使用 yolo v2 框出車牌位置\n",
    "\n",
    "### 2.使用cyclegan 來建立假的車牌\n",
    "\n",
    "### 3.使用 LSTM 來辨識車牌數字\n",
    "\n",
    "### Input: CCPD數據集 250K張車牌\n",
    "\n",
    "### Output: 車牌辨識結果"
   ]
  },
  {
   "cell_type": "code",
   "execution_count": null,
   "metadata": {},
   "outputs": [],
   "source": []
  }
 ],
 "metadata": {
  "kernelspec": {
   "display_name": "Python 3",
   "language": "python",
   "name": "python3"
  },
  "language_info": {
   "codemirror_mode": {
    "name": "ipython",
    "version": 3
   },
   "file_extension": ".py",
   "mimetype": "text/x-python",
   "name": "python",
   "nbconvert_exporter": "python",
   "pygments_lexer": "ipython3",
   "version": "3.5.6"
  }
 },
 "nbformat": 4,
 "nbformat_minor": 2
}
