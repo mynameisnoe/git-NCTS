{
 "cells": [
  {
   "cell_type": "code",
   "execution_count": 225,
   "metadata": {},
   "outputs": [],
   "source": [
    "%matplotlib inline\n",
    "\n",
    "import numpy as np\n",
    "import pandas as pd\n",
    "from matplotlib.pyplot import imshow"
   ]
  },
  {
   "cell_type": "markdown",
   "metadata": {},
   "source": [
    "### Data Preprocessing"
   ]
  },
  {
   "cell_type": "code",
   "execution_count": 226,
   "metadata": {},
   "outputs": [],
   "source": [
    "from keras.datasets import mnist\n",
    "\n",
    "(x_train, y_train), (x_test, y_test) = mnist.load_data()"
   ]
  },
  {
   "cell_type": "code",
   "execution_count": 227,
   "metadata": {},
   "outputs": [],
   "source": [
    "x_train = x_train.reshape(60000,784)\n",
    "x_test = x_test.reshape(10000,784)"
   ]
  },
  {
   "cell_type": "code",
   "execution_count": 228,
   "metadata": {},
   "outputs": [
    {
     "name": "stdout",
     "output_type": "stream",
     "text": [
      "(10000, 784)\n"
     ]
    }
   ],
   "source": [
    "x_train = x_train / x_train.max()\n",
    "x_test = x_test / x_test.max()\n",
    "\n",
    "print(x_test.shape)"
   ]
  },
  {
   "cell_type": "markdown",
   "metadata": {},
   "source": [
    "### OneHotEncoder"
   ]
  },
  {
   "cell_type": "code",
   "execution_count": 229,
   "metadata": {},
   "outputs": [],
   "source": [
    "import keras\n",
    "from keras.utils import np_utils\n",
    "\n",
    "y_train = keras.utils.to_categorical(y_train, 10)\n",
    "y_test = keras.utils.to_categorical(y_test, 10)\n"
   ]
  },
  {
   "cell_type": "markdown",
   "metadata": {},
   "source": [
    "### Define Model"
   ]
  },
  {
   "cell_type": "code",
   "execution_count": 231,
   "metadata": {},
   "outputs": [
    {
     "name": "stdout",
     "output_type": "stream",
     "text": [
      "_________________________________________________________________\n",
      "Layer (type)                 Output Shape              Param #   \n",
      "=================================================================\n",
      "dense_55 (Dense)             (None, 20)                15700     \n",
      "_________________________________________________________________\n",
      "dense_56 (Dense)             (None, 20)                420       \n",
      "_________________________________________________________________\n",
      "dense_57 (Dense)             (None, 10)                210       \n",
      "=================================================================\n",
      "Total params: 16,330\n",
      "Trainable params: 16,330\n",
      "Non-trainable params: 0\n",
      "_________________________________________________________________\n"
     ]
    },
    {
     "name": "stderr",
     "output_type": "stream",
     "text": [
      "/anaconda3/envs/NCTS/lib/python3.5/site-packages/keras/activations.py:197: UserWarning: Do not pass a layer instance (such as LeakyReLU) as the activation argument of another layer. Instead, advanced activation layers should be used just like any other layer in a model.\n",
      "  identifier=identifier.__class__.__name__))\n"
     ]
    }
   ],
   "source": [
    "from keras.models import Sequential\n",
    "from keras.layers import Dense, LeakyReLU\n",
    "from keras.optimizers import Adam\n",
    "\n",
    "model = Sequential()\n",
    "model.add(Dense(20, activation=LeakyReLU(), input_shape=(784,)))\n",
    "model.add(Dense(20, activation=LeakyReLU()))\n",
    "model.add(Dense(10, activation='softmax'))\n",
    "\n",
    "model.compile(loss = 'categorical_crossentropy', optimizer=Adam(lr=0.001), metrics = ['accuracy'])\n",
    "model.summary()"
   ]
  },
  {
   "cell_type": "code",
   "execution_count": 232,
   "metadata": {},
   "outputs": [
    {
     "name": "stdout",
     "output_type": "stream",
     "text": [
      "Epoch 1/25\n",
      "60000/60000 [==============================] - 2s 27us/step - loss: 0.5799 - acc: 0.8376\n",
      "Epoch 2/25\n",
      "60000/60000 [==============================] - 1s 17us/step - loss: 0.2903 - acc: 0.9178\n",
      "Epoch 3/25\n",
      "60000/60000 [==============================] - 1s 18us/step - loss: 0.2564 - acc: 0.9283\n",
      "Epoch 4/25\n",
      "60000/60000 [==============================] - 1s 18us/step - loss: 0.2354 - acc: 0.9336\n",
      "Epoch 5/25\n",
      "60000/60000 [==============================] - 1s 18us/step - loss: 0.2166 - acc: 0.9389\n",
      "Epoch 6/25\n",
      "60000/60000 [==============================] - 1s 17us/step - loss: 0.2023 - acc: 0.9433: 0s - loss: 0.2024 - acc: 0.943\n",
      "Epoch 7/25\n",
      "60000/60000 [==============================] - 1s 18us/step - loss: 0.1902 - acc: 0.9461\n",
      "Epoch 8/25\n",
      "60000/60000 [==============================] - 1s 18us/step - loss: 0.1786 - acc: 0.9492\n",
      "Epoch 9/25\n",
      "60000/60000 [==============================] - 1s 18us/step - loss: 0.1672 - acc: 0.9521\n",
      "Epoch 10/25\n",
      "60000/60000 [==============================] - 1s 18us/step - loss: 0.1598 - acc: 0.9544\n",
      "Epoch 11/25\n",
      "60000/60000 [==============================] - 1s 18us/step - loss: 0.1503 - acc: 0.9568\n",
      "Epoch 12/25\n",
      "60000/60000 [==============================] - 1s 18us/step - loss: 0.1440 - acc: 0.9579\n",
      "Epoch 13/25\n",
      "60000/60000 [==============================] - 1s 18us/step - loss: 0.1370 - acc: 0.9601\n",
      "Epoch 14/25\n",
      "60000/60000 [==============================] - 1s 18us/step - loss: 0.1306 - acc: 0.9621\n",
      "Epoch 15/25\n",
      "60000/60000 [==============================] - 1s 19us/step - loss: 0.1255 - acc: 0.9633\n",
      "Epoch 16/25\n",
      "60000/60000 [==============================] - 1s 18us/step - loss: 0.1209 - acc: 0.9649\n",
      "Epoch 17/25\n",
      "60000/60000 [==============================] - 1s 20us/step - loss: 0.1166 - acc: 0.9653\n",
      "Epoch 18/25\n",
      "60000/60000 [==============================] - 1s 18us/step - loss: 0.1119 - acc: 0.9666\n",
      "Epoch 19/25\n",
      "60000/60000 [==============================] - 1s 18us/step - loss: 0.1072 - acc: 0.9679\n",
      "Epoch 20/25\n",
      "60000/60000 [==============================] - 1s 18us/step - loss: 0.1046 - acc: 0.9686\n",
      "Epoch 21/25\n",
      "60000/60000 [==============================] - 1s 18us/step - loss: 0.1018 - acc: 0.9698\n",
      "Epoch 22/25\n",
      "60000/60000 [==============================] - 1s 18us/step - loss: 0.0980 - acc: 0.9703\n",
      "Epoch 23/25\n",
      "60000/60000 [==============================] - 1s 19us/step - loss: 0.0967 - acc: 0.9711\n",
      "Epoch 24/25\n",
      "60000/60000 [==============================] - 1s 20us/step - loss: 0.0931 - acc: 0.9719\n",
      "Epoch 25/25\n",
      "60000/60000 [==============================] - 1s 18us/step - loss: 0.0907 - acc: 0.9730\n"
     ]
    },
    {
     "data": {
      "text/plain": [
       "<keras.callbacks.History at 0xb48bfd940>"
      ]
     },
     "execution_count": 232,
     "metadata": {},
     "output_type": "execute_result"
    }
   ],
   "source": [
    "model.fit(x_train, y_train, batch_size=128, epochs=25,verbose = 1) "
   ]
  },
  {
   "cell_type": "markdown",
   "metadata": {},
   "source": [
    "### Result"
   ]
  },
  {
   "cell_type": "code",
   "execution_count": 233,
   "metadata": {},
   "outputs": [
    {
     "name": "stdout",
     "output_type": "stream",
     "text": [
      "10000/10000 [==============================] - 0s 39us/step\n"
     ]
    },
    {
     "data": {
      "text/plain": [
       "[0.13993144903620705, 0.9591]"
      ]
     },
     "execution_count": 233,
     "metadata": {},
     "output_type": "execute_result"
    }
   ],
   "source": [
    "score = model.evaluate(x_test.reshape(10000, 784), y_test)\n",
    "score"
   ]
  },
  {
   "cell_type": "code",
   "execution_count": 234,
   "metadata": {},
   "outputs": [
    {
     "data": {
      "image/png": "[encoded data removed]",
      "text/plain": [
       "<Figure size 432x288 with 1 Axes>"
      ]
     },
     "metadata": {
      "needs_background": "light"
     },
     "output_type": "display_data"
    }
   ],
   "source": [
    "import matplotlib.pyplot as plt\n",
    "\n",
    "plt.plot(Model.history['acc'], label='Accuracy')\n",
    "\n",
    "plt.title(\"Model's Accuracy\")\n",
    "plt.ylabel(\"accuracy\")\n",
    "plt.xlabel(\"epochs\")\n",
    "plt.legend(loc=\"best\")\n",
    "plt.show()"
   ]
  },
  {
   "cell_type": "code",
   "execution_count": 235,
   "metadata": {},
   "outputs": [
    {
     "data": {
      "image/png": "[encoded data removed]",
      "text/plain": [
       "<Figure size 432x288 with 1 Axes>"
      ]
     },
     "metadata": {
      "needs_background": "light"
     },
     "output_type": "display_data"
    }
   ],
   "source": [
    "plt.plot(Model.history['loss'], label='Loss', color=\"red\")\n",
    "\n",
    "plt.title(\"Model's Loss\")\n",
    "plt.ylabel(\"accuracy\")\n",
    "plt.xlabel(\"epochs\")\n",
    "plt.legend(loc=\"best\")\n",
    "plt.show()"
   ]
  },
  {
   "cell_type": "code",
   "execution_count": 236,
   "metadata": {},
   "outputs": [
    {
     "name": "stdout",
     "output_type": "stream",
     "text": [
      "Test Number: 7919\n",
      "Model predict： 8\n"
     ]
    },
    {
     "data": {
      "image/png": "[encoded data removed]",
      "text/plain": [
       "<Figure size 432x288 with 1 Axes>"
      ]
     },
     "metadata": {
      "needs_background": "light"
     },
     "output_type": "display_data"
    },
    {
     "name": "stdout",
     "output_type": "stream",
     "text": [
      "Test Number: 8606\n",
      "Model predict： 7\n"
     ]
    },
    {
     "data": {
      "image/png": "[encoded data removed]",
      "text/plain": [
       "<Figure size 432x288 with 1 Axes>"
      ]
     },
     "metadata": {
      "needs_background": "light"
     },
     "output_type": "display_data"
    },
    {
     "name": "stdout",
     "output_type": "stream",
     "text": [
      "Test Number: 9839\n",
      "Model predict： 7\n"
     ]
    },
    {
     "data": {
      "image/png": "[encoded data removed]",
      "text/plain": [
       "<Figure size 432x288 with 1 Axes>"
      ]
     },
     "metadata": {
      "needs_background": "light"
     },
     "output_type": "display_data"
    },
    {
     "name": "stdout",
     "output_type": "stream",
     "text": [
      "Test Number: 7789\n",
      "Model predict： 2\n"
     ]
    },
    {
     "data": {
      "image/png": "[encoded data removed]",
      "text/plain": [
       "<Figure size 432x288 with 1 Axes>"
      ]
     },
     "metadata": {
      "needs_background": "light"
     },
     "output_type": "display_data"
    },
    {
     "name": "stdout",
     "output_type": "stream",
     "text": [
      "Test Number: 6074\n",
      "Model predict： 2\n"
     ]
    },
    {
     "data": {
      "image/png": "[encoded data removed]",
      "text/plain": [
       "<Figure size 432x288 with 1 Axes>"
      ]
     },
     "metadata": {
      "needs_background": "light"
     },
     "output_type": "display_data"
    },
    {
     "name": "stdout",
     "output_type": "stream",
     "text": [
      "Test Number: 2504\n",
      "Model predict： 1\n"
     ]
    },
    {
     "data": {
      "image/png": "[encoded data removed]",
      "text/plain": [
       "<Figure size 432x288 with 1 Axes>"
      ]
     },
     "metadata": {
      "needs_background": "light"
     },
     "output_type": "display_data"
    },
    {
     "name": "stdout",
     "output_type": "stream",
     "text": [
      "Test Number: 9312\n",
      "Model predict： 6\n"
     ]
    },
    {
     "data": {
      "image/png": "[encoded data removed]",
      "text/plain": [
       "<Figure size 432x288 with 1 Axes>"
      ]
     },
     "metadata": {
      "needs_background": "light"
     },
     "output_type": "display_data"
    },
    {
     "name": "stdout",
     "output_type": "stream",
     "text": [
      "Test Number: 4186\n",
      "Model predict： 0\n"
     ]
    },
    {
     "data": {
      "image/png": "[encoded data removed]",
      "text/plain": [
       "<Figure size 432x288 with 1 Axes>"
      ]
     },
     "metadata": {
      "needs_background": "light"
     },
     "output_type": "display_data"
    },
    {
     "name": "stdout",
     "output_type": "stream",
     "text": [
      "Test Number: 7957\n",
      "Model predict： 4\n"
     ]
    },
    {
     "data": {
      "image/png": "[encoded data removed]",
      "text/plain": [
       "<Figure size 432x288 with 1 Axes>"
      ]
     },
     "metadata": {
      "needs_background": "light"
     },
     "output_type": "display_data"
    },
    {
     "name": "stdout",
     "output_type": "stream",
     "text": [
      "Test Number: 1846\n",
      "Model predict： 5\n"
     ]
    },
    {
     "data": {
      "image/png": "[encoded data removed]",
      "text/plain": [
       "<Figure size 432x288 with 1 Axes>"
      ]
     },
     "metadata": {
      "needs_background": "light"
     },
     "output_type": "display_data"
    }
   ],
   "source": [
    "model_predict = model.predict_classes(x_test)\n",
    "\n",
    "from matplotlib.pyplot import imshow\n",
    "import random\n",
    "\n",
    "for x in range(10):\n",
    "    i = random.randint(1,10000)\n",
    "    print('Test Number:', i)\n",
    "    plt.imshow(x_test[i].reshape(28,28))\n",
    "    plt.title(\"Real Number\")\n",
    "    print('Model predict：',model_predict[i])\n",
    "    plt.pause(0.05)"
   ]
  },
  {
   "cell_type": "code",
   "execution_count": null,
   "metadata": {},
   "outputs": [],
   "source": []
  }
 ],
 "metadata": {
  "kernelspec": {
   "display_name": "Python 3",
   "language": "python",
   "name": "python3"
  },
  "language_info": {
   "codemirror_mode": {
    "name": "ipython",
    "version": 3
   },
   "file_extension": ".py",
   "mimetype": "text/x-python",
   "name": "python",
   "nbconvert_exporter": "python",
   "pygments_lexer": "ipython3",
   "version": "3.5.6"
  }
 },
 "nbformat": 4,
 "nbformat_minor": 2
}
